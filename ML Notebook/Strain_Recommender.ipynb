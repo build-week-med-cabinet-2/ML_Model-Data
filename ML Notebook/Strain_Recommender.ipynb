{
 "cells": [
  {
   "cell_type": "markdown",
   "metadata": {},
   "source": [
    "## Load the Data"
   ]
  },
  {
   "cell_type": "code",
   "execution_count": 1,
   "metadata": {},
   "outputs": [],
   "source": [
    "\"\"\" Import Statements \"\"\"\n",
    "\n",
    "# Classics\n",
    "import pandas as pd\n",
    "import seaborn as sns\n",
    "import matplotlib.pyplot as plt\n",
    "\n",
    "from sklearn.feature_extraction.text import CountVectorizer, TfidfVectorizer\n",
    "from sklearn.metrics.pairwise import cosine_similarity\n",
    "from sklearn.neighbors import NearestNeighbors\n",
    "from sklearn.decomposition import PCA\n",
    "\n",
    "import spacy\n",
    "from spacy.tokenizer import Tokenizer\n",
    "from nltk.stem import PorterStemmer\n",
    "nlp = spacy.load(\"en_core_web_lg\")"
   ]
  },
  {
   "cell_type": "code",
   "execution_count": 2,
   "metadata": {},
   "outputs": [
    {
     "data": {
      "text/html": [
       "<div>\n",
       "<style scoped>\n",
       "    .dataframe tbody tr th:only-of-type {\n",
       "        vertical-align: middle;\n",
       "    }\n",
       "\n",
       "    .dataframe tbody tr th {\n",
       "        vertical-align: top;\n",
       "    }\n",
       "\n",
       "    .dataframe thead th {\n",
       "        text-align: right;\n",
       "    }\n",
       "</style>\n",
       "<table border=\"1\" class=\"dataframe\">\n",
       "  <thead>\n",
       "    <tr style=\"text-align: right;\">\n",
       "      <th></th>\n",
       "      <th>Strain</th>\n",
       "      <th>Type</th>\n",
       "      <th>Rating</th>\n",
       "      <th>Effects</th>\n",
       "      <th>Flavor</th>\n",
       "      <th>Description</th>\n",
       "    </tr>\n",
       "  </thead>\n",
       "  <tbody>\n",
       "    <tr>\n",
       "      <th>0</th>\n",
       "      <td>100-Og</td>\n",
       "      <td>hybrid</td>\n",
       "      <td>4.0</td>\n",
       "      <td>Creative,Energetic,Tingly,Euphoric,Relaxed</td>\n",
       "      <td>Earthy,Sweet,Citrus</td>\n",
       "      <td>$100 OG is a 50/50 hybrid strain that packs a ...</td>\n",
       "    </tr>\n",
       "    <tr>\n",
       "      <th>1</th>\n",
       "      <td>98-White-Widow</td>\n",
       "      <td>hybrid</td>\n",
       "      <td>4.7</td>\n",
       "      <td>Relaxed,Aroused,Creative,Happy,Energetic</td>\n",
       "      <td>Flowery,Violet,Diesel</td>\n",
       "      <td>The ‘98 Aloha White Widow is an especially pot...</td>\n",
       "    </tr>\n",
       "    <tr>\n",
       "      <th>2</th>\n",
       "      <td>1024</td>\n",
       "      <td>sativa</td>\n",
       "      <td>4.4</td>\n",
       "      <td>Uplifted,Happy,Relaxed,Energetic,Creative</td>\n",
       "      <td>Spicy/Herbal,Sage,Woody</td>\n",
       "      <td>1024 is a sativa-dominant hybrid bred in Spain...</td>\n",
       "    </tr>\n",
       "    <tr>\n",
       "      <th>3</th>\n",
       "      <td>13-Dawgs</td>\n",
       "      <td>hybrid</td>\n",
       "      <td>4.2</td>\n",
       "      <td>Tingly,Creative,Hungry,Relaxed,Uplifted</td>\n",
       "      <td>Apricot,Citrus,Grapefruit</td>\n",
       "      <td>13 Dawgs is a hybrid of G13 and Chemdawg genet...</td>\n",
       "    </tr>\n",
       "    <tr>\n",
       "      <th>4</th>\n",
       "      <td>24K-Gold</td>\n",
       "      <td>hybrid</td>\n",
       "      <td>4.6</td>\n",
       "      <td>Happy,Relaxed,Euphoric,Uplifted,Talkative</td>\n",
       "      <td>Citrus,Earthy,Orange</td>\n",
       "      <td>Also known as Kosher Tangie, 24k Gold is a 60%...</td>\n",
       "    </tr>\n",
       "  </tbody>\n",
       "</table>\n",
       "</div>"
      ],
      "text/plain": [
       "           Strain    Type  Rating                                     Effects  \\\n",
       "0          100-Og  hybrid     4.0  Creative,Energetic,Tingly,Euphoric,Relaxed   \n",
       "1  98-White-Widow  hybrid     4.7    Relaxed,Aroused,Creative,Happy,Energetic   \n",
       "2            1024  sativa     4.4   Uplifted,Happy,Relaxed,Energetic,Creative   \n",
       "3        13-Dawgs  hybrid     4.2     Tingly,Creative,Hungry,Relaxed,Uplifted   \n",
       "4        24K-Gold  hybrid     4.6   Happy,Relaxed,Euphoric,Uplifted,Talkative   \n",
       "\n",
       "                      Flavor  \\\n",
       "0        Earthy,Sweet,Citrus   \n",
       "1      Flowery,Violet,Diesel   \n",
       "2    Spicy/Herbal,Sage,Woody   \n",
       "3  Apricot,Citrus,Grapefruit   \n",
       "4       Citrus,Earthy,Orange   \n",
       "\n",
       "                                         Description  \n",
       "0  $100 OG is a 50/50 hybrid strain that packs a ...  \n",
       "1  The ‘98 Aloha White Widow is an especially pot...  \n",
       "2  1024 is a sativa-dominant hybrid bred in Spain...  \n",
       "3  13 Dawgs is a hybrid of G13 and Chemdawg genet...  \n",
       "4  Also known as Kosher Tangie, 24k Gold is a 60%...  "
      ]
     },
     "execution_count": 2,
     "metadata": {},
     "output_type": "execute_result"
    }
   ],
   "source": [
    "df = pd.read_csv(\"https://raw.githubusercontent.com/build-week-med-cabinet-2/ML_Model-Data/master/Cannabis_Strains_Features.csv\")\n",
    "df.head()"
   ]
  },
  {
   "cell_type": "markdown",
   "metadata": {},
   "source": [
    "## Tokenize Columns"
   ]
  },
  {
   "cell_type": "code",
   "execution_count": 3,
   "metadata": {},
   "outputs": [],
   "source": [
    "# Merge all the text columns to make a all words columns\n",
    "df['bag_of_words'] = df['Strain']+\" \"+df[\"Effects\"] +\" \"+ df[\"Flavor\"] +\" \"+ df['Description'] +\" \"+ df['Type']"
   ]
  },
  {
   "cell_type": "code",
   "execution_count": 4,
   "metadata": {},
   "outputs": [
    {
     "data": {
      "text/plain": [
       "0    100-Og Creative,Energetic,Tingly,Euphoric,Rela...\n",
       "1    98-White-Widow Relaxed,Aroused,Creative,Happy,...\n",
       "2    1024 Uplifted,Happy,Relaxed,Energetic,Creative...\n",
       "3    13-Dawgs Tingly,Creative,Hungry,Relaxed,Uplift...\n",
       "4    24K-Gold Happy,Relaxed,Euphoric,Uplifted,Talka...\n",
       "Name: bag_of_words, dtype: object"
      ]
     },
     "execution_count": 4,
     "metadata": {},
     "output_type": "execute_result"
    }
   ],
   "source": [
    "df['bag_of_words'].head()"
   ]
  },
  {
   "cell_type": "code",
   "execution_count": 5,
   "metadata": {},
   "outputs": [],
   "source": [
    "tokenizer = Tokenizer(nlp.vocab)"
   ]
  },
  {
   "cell_type": "code",
   "execution_count": 6,
   "metadata": {},
   "outputs": [],
   "source": [
    "tokens = []\n",
    "\n",
    "\"\"\" Make them tokens \"\"\"\n",
    "for doc in tokenizer.pipe(df['bag_of_words'], batch_size=500):\n",
    "    doc_tokens = [token.text for token in doc]\n",
    "    tokens.append(doc_tokens)\n",
    "\n",
    "df['tokens'] = tokens"
   ]
  },
  {
   "cell_type": "code",
   "execution_count": 7,
   "metadata": {},
   "outputs": [
    {
     "data": {
      "text/plain": [
       "0    [100-Og, Creative,Energetic,Tingly,Euphoric,Re...\n",
       "1    [98-White-Widow, Relaxed,Aroused,Creative,Happ...\n",
       "2    [1024, Uplifted,Happy,Relaxed,Energetic,Creati...\n",
       "3    [13-Dawgs, Tingly,Creative,Hungry,Relaxed,Upli...\n",
       "4    [24K-Gold, Happy,Relaxed,Euphoric,Uplifted,Tal...\n",
       "Name: tokens, dtype: object"
      ]
     },
     "execution_count": 7,
     "metadata": {},
     "output_type": "execute_result"
    }
   ],
   "source": [
    "df['tokens'].head()"
   ]
  },
  {
   "cell_type": "code",
   "execution_count": 8,
   "metadata": {},
   "outputs": [
    {
     "data": {
      "text/html": [
       "<div>\n",
       "<style scoped>\n",
       "    .dataframe tbody tr th:only-of-type {\n",
       "        vertical-align: middle;\n",
       "    }\n",
       "\n",
       "    .dataframe tbody tr th {\n",
       "        vertical-align: top;\n",
       "    }\n",
       "\n",
       "    .dataframe thead th {\n",
       "        text-align: right;\n",
       "    }\n",
       "</style>\n",
       "<table border=\"1\" class=\"dataframe\">\n",
       "  <thead>\n",
       "    <tr style=\"text-align: right;\">\n",
       "      <th></th>\n",
       "      <th>00</th>\n",
       "      <th>001</th>\n",
       "      <th>07</th>\n",
       "      <th>09</th>\n",
       "      <th>10</th>\n",
       "      <th>100</th>\n",
       "      <th>1024</th>\n",
       "      <th>10th</th>\n",
       "      <th>11</th>\n",
       "      <th>115</th>\n",
       "      <th>...</th>\n",
       "      <th>zeta</th>\n",
       "      <th>zeus</th>\n",
       "      <th>zingers</th>\n",
       "      <th>zion</th>\n",
       "      <th>zipping</th>\n",
       "      <th>zkittlez</th>\n",
       "      <th>zombie</th>\n",
       "      <th>zone</th>\n",
       "      <th>zoning</th>\n",
       "      <th>zoom</th>\n",
       "    </tr>\n",
       "  </thead>\n",
       "  <tbody>\n",
       "    <tr>\n",
       "      <th>0</th>\n",
       "      <td>0.0</td>\n",
       "      <td>0.0</td>\n",
       "      <td>0.0</td>\n",
       "      <td>0.0</td>\n",
       "      <td>0.0</td>\n",
       "      <td>0.559372</td>\n",
       "      <td>0.00000</td>\n",
       "      <td>0.0</td>\n",
       "      <td>0.0</td>\n",
       "      <td>0.0</td>\n",
       "      <td>...</td>\n",
       "      <td>0.0</td>\n",
       "      <td>0.0</td>\n",
       "      <td>0.0</td>\n",
       "      <td>0.0</td>\n",
       "      <td>0.0</td>\n",
       "      <td>0.0</td>\n",
       "      <td>0.0</td>\n",
       "      <td>0.0</td>\n",
       "      <td>0.0</td>\n",
       "      <td>0.0</td>\n",
       "    </tr>\n",
       "    <tr>\n",
       "      <th>1</th>\n",
       "      <td>0.0</td>\n",
       "      <td>0.0</td>\n",
       "      <td>0.0</td>\n",
       "      <td>0.0</td>\n",
       "      <td>0.0</td>\n",
       "      <td>0.000000</td>\n",
       "      <td>0.00000</td>\n",
       "      <td>0.0</td>\n",
       "      <td>0.0</td>\n",
       "      <td>0.0</td>\n",
       "      <td>...</td>\n",
       "      <td>0.0</td>\n",
       "      <td>0.0</td>\n",
       "      <td>0.0</td>\n",
       "      <td>0.0</td>\n",
       "      <td>0.0</td>\n",
       "      <td>0.0</td>\n",
       "      <td>0.0</td>\n",
       "      <td>0.0</td>\n",
       "      <td>0.0</td>\n",
       "      <td>0.0</td>\n",
       "    </tr>\n",
       "    <tr>\n",
       "      <th>2</th>\n",
       "      <td>0.0</td>\n",
       "      <td>0.0</td>\n",
       "      <td>0.0</td>\n",
       "      <td>0.0</td>\n",
       "      <td>0.0</td>\n",
       "      <td>0.000000</td>\n",
       "      <td>0.58649</td>\n",
       "      <td>0.0</td>\n",
       "      <td>0.0</td>\n",
       "      <td>0.0</td>\n",
       "      <td>...</td>\n",
       "      <td>0.0</td>\n",
       "      <td>0.0</td>\n",
       "      <td>0.0</td>\n",
       "      <td>0.0</td>\n",
       "      <td>0.0</td>\n",
       "      <td>0.0</td>\n",
       "      <td>0.0</td>\n",
       "      <td>0.0</td>\n",
       "      <td>0.0</td>\n",
       "      <td>0.0</td>\n",
       "    </tr>\n",
       "    <tr>\n",
       "      <th>3</th>\n",
       "      <td>0.0</td>\n",
       "      <td>0.0</td>\n",
       "      <td>0.0</td>\n",
       "      <td>0.0</td>\n",
       "      <td>0.0</td>\n",
       "      <td>0.000000</td>\n",
       "      <td>0.00000</td>\n",
       "      <td>0.0</td>\n",
       "      <td>0.0</td>\n",
       "      <td>0.0</td>\n",
       "      <td>...</td>\n",
       "      <td>0.0</td>\n",
       "      <td>0.0</td>\n",
       "      <td>0.0</td>\n",
       "      <td>0.0</td>\n",
       "      <td>0.0</td>\n",
       "      <td>0.0</td>\n",
       "      <td>0.0</td>\n",
       "      <td>0.0</td>\n",
       "      <td>0.0</td>\n",
       "      <td>0.0</td>\n",
       "    </tr>\n",
       "    <tr>\n",
       "      <th>4</th>\n",
       "      <td>0.0</td>\n",
       "      <td>0.0</td>\n",
       "      <td>0.0</td>\n",
       "      <td>0.0</td>\n",
       "      <td>0.0</td>\n",
       "      <td>0.000000</td>\n",
       "      <td>0.00000</td>\n",
       "      <td>0.0</td>\n",
       "      <td>0.0</td>\n",
       "      <td>0.0</td>\n",
       "      <td>...</td>\n",
       "      <td>0.0</td>\n",
       "      <td>0.0</td>\n",
       "      <td>0.0</td>\n",
       "      <td>0.0</td>\n",
       "      <td>0.0</td>\n",
       "      <td>0.0</td>\n",
       "      <td>0.0</td>\n",
       "      <td>0.0</td>\n",
       "      <td>0.0</td>\n",
       "      <td>0.0</td>\n",
       "    </tr>\n",
       "  </tbody>\n",
       "</table>\n",
       "<p>5 rows × 8667 columns</p>\n",
       "</div>"
      ],
      "text/plain": [
       "    00  001   07   09   10       100     1024  10th   11  115  ...  zeta  \\\n",
       "0  0.0  0.0  0.0  0.0  0.0  0.559372  0.00000   0.0  0.0  0.0  ...   0.0   \n",
       "1  0.0  0.0  0.0  0.0  0.0  0.000000  0.00000   0.0  0.0  0.0  ...   0.0   \n",
       "2  0.0  0.0  0.0  0.0  0.0  0.000000  0.58649   0.0  0.0  0.0  ...   0.0   \n",
       "3  0.0  0.0  0.0  0.0  0.0  0.000000  0.00000   0.0  0.0  0.0  ...   0.0   \n",
       "4  0.0  0.0  0.0  0.0  0.0  0.000000  0.00000   0.0  0.0  0.0  ...   0.0   \n",
       "\n",
       "   zeus  zingers  zion  zipping  zkittlez  zombie  zone  zoning  zoom  \n",
       "0   0.0      0.0   0.0      0.0       0.0     0.0   0.0     0.0   0.0  \n",
       "1   0.0      0.0   0.0      0.0       0.0     0.0   0.0     0.0   0.0  \n",
       "2   0.0      0.0   0.0      0.0       0.0     0.0   0.0     0.0   0.0  \n",
       "3   0.0      0.0   0.0      0.0       0.0     0.0   0.0     0.0   0.0  \n",
       "4   0.0      0.0   0.0      0.0       0.0     0.0   0.0     0.0   0.0  \n",
       "\n",
       "[5 rows x 8667 columns]"
      ]
     },
     "execution_count": 8,
     "metadata": {},
     "output_type": "execute_result"
    }
   ],
   "source": [
    "from sklearn.feature_extraction.text import TfidfVectorizer\n",
    "\n",
    "# Instantiate vectorizer object\n",
    "tfidf = TfidfVectorizer(stop_words='english')\n",
    "\n",
    "# Create a vocabulary and get word counts per document\n",
    "#Similar to fit_predict\n",
    "dtm = tfidf.fit_transform(df['bag_of_words'])\n",
    "\n",
    "# Print word counts\n",
    "\n",
    "# Get feature names to use as dataframe column headers\n",
    "dtm = pd.DataFrame(dtm.todense(), columns=tfidf.get_feature_names())\n",
    "\n",
    "# View Feature Matrix as DataFrame\n",
    "dtm.head()"
   ]
  },
  {
   "cell_type": "markdown",
   "metadata": {},
   "source": [
    "## KNN Model"
   ]
  },
  {
   "cell_type": "code",
   "execution_count": 9,
   "metadata": {},
   "outputs": [
    {
     "data": {
      "text/plain": [
       "NearestNeighbors(algorithm='kd_tree', leaf_size=30, metric='minkowski',\n",
       "         metric_params=None, n_jobs=None, n_neighbors=5, p=2, radius=1.0)"
      ]
     },
     "execution_count": 9,
     "metadata": {},
     "output_type": "execute_result"
    }
   ],
   "source": [
    "# Instantiate\n",
    "from sklearn.neighbors import NearestNeighbors\n",
    "\n",
    "# Fit on TF-IDF Vectors\n",
    "nn  = NearestNeighbors(n_neighbors=5, algorithm='kd_tree')\n",
    "nn.fit(dtm)"
   ]
  },
  {
   "cell_type": "code",
   "execution_count": 10,
   "metadata": {},
   "outputs": [
    {
     "data": {
      "text/plain": [
       "(array([[0.        , 1.04064022, 1.09486099, 1.26290318, 1.26293834]]),\n",
       " array([[378,  90, 929, 925, 888]], dtype=int64))"
      ]
     },
     "execution_count": 10,
     "metadata": {},
     "output_type": "execute_result"
    }
   ],
   "source": [
    "# Query Using kneighbors \n",
    "nn.kneighbors([dtm.iloc[378]])"
   ]
  },
  {
   "cell_type": "code",
   "execution_count": 11,
   "metadata": {},
   "outputs": [
    {
     "data": {
      "text/plain": [
       "'Bright-Moments Tingly,Uplifted,Sleepy,Giggly,Happy Flowery,Woody,Earthy Bright Moments by Gage Green Group is a delicious cross of heirloom Grape Stomper genetics. Created by crossing Grape Stomper an'"
      ]
     },
     "execution_count": 11,
     "metadata": {},
     "output_type": "execute_result"
    }
   ],
   "source": [
    "df['bag_of_words'][378][:200]"
   ]
  },
  {
   "cell_type": "code",
   "execution_count": 12,
   "metadata": {},
   "outputs": [
    {
     "data": {
      "text/plain": [
       "\"Sour-Grapes Happy,Relaxed,Uplifted,Euphoric,Hungry Grape,Sweet,Berry Also called 'Sour Grapes,' Grape Stomper\\xa0is a craft hybridstrain created by Gage Green Seeds. A complex cross between breeder JojoR\""
      ]
     },
     "execution_count": 12,
     "metadata": {},
     "output_type": "execute_result"
    }
   ],
   "source": [
    "df['bag_of_words'][929][:200]"
   ]
  },
  {
   "cell_type": "markdown",
   "metadata": {},
   "source": [
    "## Pickle the Model"
   ]
  },
  {
   "cell_type": "code",
   "execution_count": 13,
   "metadata": {},
   "outputs": [
    {
     "data": {
      "text/plain": [
       "['NN_MJrec.pkl']"
      ]
     },
     "execution_count": 13,
     "metadata": {},
     "output_type": "execute_result"
    }
   ],
   "source": [
    "from sklearn.externals import joblib \n",
    "\n",
    "joblib.dump(nn, 'NN_MJrec.pkl') "
   ]
  },
  {
   "cell_type": "markdown",
   "metadata": {},
   "source": [
    "## Search Function"
   ]
  },
  {
   "cell_type": "code",
   "execution_count": 15,
   "metadata": {},
   "outputs": [],
   "source": [
    "nn = joblib.load('NN_MJrec.pkl')"
   ]
  },
  {
   "cell_type": "code",
   "execution_count": 21,
   "metadata": {},
   "outputs": [],
   "source": [
    "def recommend(text):\n",
    "   # Transform\n",
    "    text = pd.Series(text)\n",
    "    vect = tfidf.transform(text)\n",
    "\n",
    "    # Send to df\n",
    "    vectdf = pd.DataFrame(vect.todense())\n",
    "\n",
    "    # Return a list of indexes\n",
    "    top5 = nn.kneighbors([vectdf][0], n_neighbors=5)[1][0].tolist()\n",
    "    \n",
    "    # Send recomendations to DataFrame\n",
    "    recommendations_df = df.iloc[top5]\n",
    "    \n",
    "    return recommendations_df"
   ]
  },
  {
   "cell_type": "code",
   "execution_count": 24,
   "metadata": {},
   "outputs": [
    {
     "data": {
      "text/html": [
       "<div>\n",
       "<style scoped>\n",
       "    .dataframe tbody tr th:only-of-type {\n",
       "        vertical-align: middle;\n",
       "    }\n",
       "\n",
       "    .dataframe tbody tr th {\n",
       "        vertical-align: top;\n",
       "    }\n",
       "\n",
       "    .dataframe thead th {\n",
       "        text-align: right;\n",
       "    }\n",
       "</style>\n",
       "<table border=\"1\" class=\"dataframe\">\n",
       "  <thead>\n",
       "    <tr style=\"text-align: right;\">\n",
       "      <th></th>\n",
       "      <th>Strain</th>\n",
       "      <th>Type</th>\n",
       "      <th>Rating</th>\n",
       "      <th>Effects</th>\n",
       "      <th>Flavor</th>\n",
       "      <th>Description</th>\n",
       "      <th>bag_of_words</th>\n",
       "      <th>tokens</th>\n",
       "    </tr>\n",
       "  </thead>\n",
       "  <tbody>\n",
       "    <tr>\n",
       "      <th>2081</th>\n",
       "      <td>Sweet-Kush</td>\n",
       "      <td>hybrid</td>\n",
       "      <td>4.4</td>\n",
       "      <td>Hungry,Happy,Relaxed,Euphoric,Sleepy</td>\n",
       "      <td>Citrus,Sweet,Flowery</td>\n",
       "      <td>Sweet Kush is the potent daughter of Sweet Too...</td>\n",
       "      <td>Sweet-Kush Hungry,Happy,Relaxed,Euphoric,Sleep...</td>\n",
       "      <td>[Sweet-Kush, Hungry,Happy,Relaxed,Euphoric,Sle...</td>\n",
       "    </tr>\n",
       "    <tr>\n",
       "      <th>1816</th>\n",
       "      <td>Sfv-Og</td>\n",
       "      <td>hybrid</td>\n",
       "      <td>4.4</td>\n",
       "      <td>Happy,Relaxed,Uplifted,Euphoric,Focused</td>\n",
       "      <td>Earthy,Pine,Pungent</td>\n",
       "      <td>SFV OG by Cali Connection is a sativa-dominant...</td>\n",
       "      <td>Sfv-Og Happy,Relaxed,Uplifted,Euphoric,Focused...</td>\n",
       "      <td>[Sfv-Og, Happy,Relaxed,Uplifted,Euphoric,Focus...</td>\n",
       "    </tr>\n",
       "    <tr>\n",
       "      <th>1272</th>\n",
       "      <td>Lemon-Og</td>\n",
       "      <td>hybrid</td>\n",
       "      <td>4.3</td>\n",
       "      <td>Relaxed,Euphoric,Happy,Sleepy,Uplifted</td>\n",
       "      <td>Lemon,Citrus,Earthy</td>\n",
       "      <td>What this skunky indica lacks in longevity it ...</td>\n",
       "      <td>Lemon-Og Relaxed,Euphoric,Happy,Sleepy,Uplifte...</td>\n",
       "      <td>[Lemon-Og, Relaxed,Euphoric,Happy,Sleepy,Uplif...</td>\n",
       "    </tr>\n",
       "    <tr>\n",
       "      <th>226</th>\n",
       "      <td>Black-Diamond</td>\n",
       "      <td>indica</td>\n",
       "      <td>4.4</td>\n",
       "      <td>Relaxed,Happy,Euphoric,Uplifted,Hungry</td>\n",
       "      <td>Earthy,Woody,Berry</td>\n",
       "      <td>Black Diamond is a Northern California strain ...</td>\n",
       "      <td>Black-Diamond Relaxed,Happy,Euphoric,Uplifted,...</td>\n",
       "      <td>[Black-Diamond, Relaxed,Happy,Euphoric,Uplifte...</td>\n",
       "    </tr>\n",
       "    <tr>\n",
       "      <th>1785</th>\n",
       "      <td>Rob-Ford-Kush</td>\n",
       "      <td>hybrid</td>\n",
       "      <td>4.6</td>\n",
       "      <td>Sleepy,Relaxed,Happy,Hungry,Tingly</td>\n",
       "      <td>Sweet,Lemon,Spicy/Herbal</td>\n",
       "      <td>A Toronto strain that gets its name from its s...</td>\n",
       "      <td>Rob-Ford-Kush Sleepy,Relaxed,Happy,Hungry,Ting...</td>\n",
       "      <td>[Rob-Ford-Kush, Sleepy,Relaxed,Happy,Hungry,Ti...</td>\n",
       "    </tr>\n",
       "  </tbody>\n",
       "</table>\n",
       "</div>"
      ],
      "text/plain": [
       "             Strain    Type  Rating                                  Effects  \\\n",
       "2081     Sweet-Kush  hybrid     4.4     Hungry,Happy,Relaxed,Euphoric,Sleepy   \n",
       "1816         Sfv-Og  hybrid     4.4  Happy,Relaxed,Uplifted,Euphoric,Focused   \n",
       "1272       Lemon-Og  hybrid     4.3   Relaxed,Euphoric,Happy,Sleepy,Uplifted   \n",
       "226   Black-Diamond  indica     4.4   Relaxed,Happy,Euphoric,Uplifted,Hungry   \n",
       "1785  Rob-Ford-Kush  hybrid     4.6       Sleepy,Relaxed,Happy,Hungry,Tingly   \n",
       "\n",
       "                        Flavor  \\\n",
       "2081      Citrus,Sweet,Flowery   \n",
       "1816       Earthy,Pine,Pungent   \n",
       "1272       Lemon,Citrus,Earthy   \n",
       "226         Earthy,Woody,Berry   \n",
       "1785  Sweet,Lemon,Spicy/Herbal   \n",
       "\n",
       "                                            Description  \\\n",
       "2081  Sweet Kush is the potent daughter of Sweet Too...   \n",
       "1816  SFV OG by Cali Connection is a sativa-dominant...   \n",
       "1272  What this skunky indica lacks in longevity it ...   \n",
       "226   Black Diamond is a Northern California strain ...   \n",
       "1785  A Toronto strain that gets its name from its s...   \n",
       "\n",
       "                                           bag_of_words  \\\n",
       "2081  Sweet-Kush Hungry,Happy,Relaxed,Euphoric,Sleep...   \n",
       "1816  Sfv-Og Happy,Relaxed,Uplifted,Euphoric,Focused...   \n",
       "1272  Lemon-Og Relaxed,Euphoric,Happy,Sleepy,Uplifte...   \n",
       "226   Black-Diamond Relaxed,Happy,Euphoric,Uplifted,...   \n",
       "1785  Rob-Ford-Kush Sleepy,Relaxed,Happy,Hungry,Ting...   \n",
       "\n",
       "                                                 tokens  \n",
       "2081  [Sweet-Kush, Hungry,Happy,Relaxed,Euphoric,Sle...  \n",
       "1816  [Sfv-Og, Happy,Relaxed,Uplifted,Euphoric,Focus...  \n",
       "1272  [Lemon-Og, Relaxed,Euphoric,Happy,Sleepy,Uplif...  \n",
       "226   [Black-Diamond, Relaxed,Happy,Euphoric,Uplifte...  \n",
       "1785  [Rob-Ford-Kush, Sleepy,Relaxed,Happy,Hungry,Ti...  "
      ]
     },
     "execution_count": 24,
     "metadata": {},
     "output_type": "execute_result"
    }
   ],
   "source": [
    "recommend(\"I want some good kush to make me feel happy, and sleepy\")"
   ]
  },
  {
   "cell_type": "code",
   "execution_count": null,
   "metadata": {},
   "outputs": [],
   "source": []
  }
 ],
 "metadata": {
  "kernelspec": {
   "display_name": "U4-S1-NLP (Python3.7)",
   "language": "python",
   "name": "u4-s1-nlp"
  },
  "language_info": {
   "codemirror_mode": {
    "name": "ipython",
    "version": 3
   },
   "file_extension": ".py",
   "mimetype": "text/x-python",
   "name": "python",
   "nbconvert_exporter": "python",
   "pygments_lexer": "ipython3",
   "version": "3.7.0"
  }
 },
 "nbformat": 4,
 "nbformat_minor": 4
}
